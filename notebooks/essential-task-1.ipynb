{
 "cells": [
  {
   "cell_type": "code",
   "execution_count": 1,
   "metadata": {},
   "outputs": [],
   "source": [
    "import sys\n",
    "sys.path.extend(['../', '../read_utils/'])\n",
    "\n",
    "import json\n",
    "import numpy as np\n",
    "from pathlib import Path\n",
    "\n",
    "from read_utils.main import (\n",
    "    calibrate_magnetic_wifi_ibeacon_to_position, \n",
    "    visualize_trajectory, \n",
    "    save_figure_to_html,\n",
    ")\n"
   ]
  },
  {
   "cell_type": "code",
   "execution_count": 2,
   "metadata": {},
   "outputs": [],
   "source": [
    "floor_data_dir = '../data/site1/F1'\n",
    "path_data_dir = floor_data_dir + '/path_data_files'\n",
    "floor_plan_filename = floor_data_dir + '/floor_image.png'\n",
    "floor_info_filename = floor_data_dir + '/floor_info.json'\n",
    "\n",
    "save_dir = '../output/site1/F1'\n",
    "step_position_image_save_dir = save_dir"
   ]
  },
  {
   "cell_type": "code",
   "execution_count": 3,
   "metadata": {},
   "outputs": [
    {
     "name": "stdout",
     "output_type": "stream",
     "text": [
      "239.81749314504376 176.44116534000818\n",
      "120\n",
      "(7840, 2)\n"
     ]
    }
   ],
   "source": [
    "with open(floor_info_filename) as f:\n",
    "    floor_info = json.load(f)\n",
    "width_meter = floor_info[\"map_info\"][\"width\"]\n",
    "height_meter = floor_info[\"map_info\"][\"height\"]\n",
    "print(width_meter, height_meter)\n",
    "\n",
    "path_filenames = list(Path(path_data_dir).resolve().glob(\"*.txt\"))\n",
    "print(len(path_filenames))\n",
    "mwi_datas = calibrate_magnetic_wifi_ibeacon_to_position(path_filenames)\n",
    "step_positions = np.array(list(mwi_datas.keys()))\n",
    "print(step_positions.shape)"
   ]
  },
  {
   "cell_type": "code",
   "execution_count": 5,
   "metadata": {},
   "outputs": [],
   "source": [
    "fig = visualize_trajectory(step_positions, floor_plan_filename, width_meter, height_meter, mode='markers', title='Step Position', show=False)\n",
    "html_filename = f'{step_position_image_save_dir}/step_position.html'\n",
    "html_filename = str(Path(html_filename).resolve())\n",
    "save_figure_to_html(fig, html_filename)"
   ]
  }
 ],
 "metadata": {
  "kernelspec": {
   "display_name": ".venv",
   "language": "python",
   "name": "python3"
  },
  "language_info": {
   "codemirror_mode": {
    "name": "ipython",
    "version": 3
   },
   "file_extension": ".py",
   "mimetype": "text/x-python",
   "name": "python",
   "nbconvert_exporter": "python",
   "pygments_lexer": "ipython3",
   "version": "3.11.4"
  },
  "orig_nbformat": 4
 },
 "nbformat": 4,
 "nbformat_minor": 2
}
