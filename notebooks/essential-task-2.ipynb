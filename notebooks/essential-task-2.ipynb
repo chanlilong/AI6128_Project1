{
 "cells": [
  {
   "cell_type": "code",
   "execution_count": 1,
   "metadata": {},
   "outputs": [],
   "source": [
    "import sys\n",
    "sys.path.extend(['../', '../read_utils/'])\n",
    "\n",
    "import json\n",
    "import numpy as np\n",
    "from pathlib import Path\n",
    "\n",
    "from read_utils.main import (\n",
    "    calibrate_magnetic_wifi_ibeacon_to_position, \n",
    "    extract_magnetic_strength, \n",
    "    visualize_heatmap, \n",
    "    save_figure_to_html,\n",
    ")\n"
   ]
  },
  {
   "cell_type": "code",
   "execution_count": 2,
   "metadata": {},
   "outputs": [],
   "source": [
    "floor_data_dir = '../data/site1/F1'\n",
    "path_data_dir = floor_data_dir + '/path_data_files'\n",
    "floor_plan_filename = floor_data_dir + '/floor_image.png'\n",
    "floor_info_filename = floor_data_dir + '/floor_info.json'\n",
    "\n",
    "save_dir = '../output/site1/F1'\n",
    "magn_image_save_dir = save_dir"
   ]
  },
  {
   "cell_type": "code",
   "execution_count": 3,
   "metadata": {},
   "outputs": [
    {
     "name": "stdout",
     "output_type": "stream",
     "text": [
      "239.81749314504376 176.44116534000818\n",
      "120\n",
      "(7840, 2)\n"
     ]
    }
   ],
   "source": [
    "with open(floor_info_filename) as f:\n",
    "    floor_info = json.load(f)\n",
    "width_meter = floor_info[\"map_info\"][\"width\"]\n",
    "height_meter = floor_info[\"map_info\"][\"height\"]\n",
    "print(width_meter, height_meter)\n",
    "\n",
    "path_filenames = list(Path(path_data_dir).resolve().glob(\"*.txt\"))\n",
    "print(len(path_filenames))\n",
    "mwi_datas = calibrate_magnetic_wifi_ibeacon_to_position(path_filenames)\n",
    "step_positions = np.array(list(mwi_datas.keys()))\n",
    "print(step_positions.shape)"
   ]
  },
  {
   "cell_type": "code",
   "execution_count": 4,
   "metadata": {},
   "outputs": [],
   "source": [
    "#step_position_1 = list(mwi_datas.keys())[0]\n",
    "#print(step_position_1)\n",
    "#mwi_data_1 = mwi_datas[step_position_1]\n",
    "#print(mwi_data_1.keys())\n",
    "#print(mwi_data_1['magnetic'].shape)\n",
    "#print(mwi_data_1['wifi'].shape)\n",
    "#print(mwi_data_1['ibeacon'].shape)"
   ]
  },
  {
   "cell_type": "code",
   "execution_count": 5,
   "metadata": {},
   "outputs": [
    {
     "name": "stdout",
     "output_type": "stream",
     "text": [
      "(7840, 2) (7840,)\n"
     ]
    }
   ],
   "source": [
    "magnetic_strength = extract_magnetic_strength(mwi_datas)\n",
    "heat_positions = np.array(list(magnetic_strength.keys()))\n",
    "heat_values = np.array(list(magnetic_strength.values()))\n",
    "print(heat_positions.shape, heat_values.shape)\n",
    "\n",
    "fig = visualize_heatmap(\n",
    "    heat_positions, \n",
    "    heat_values, \n",
    "    floor_plan_filename, \n",
    "    width_meter, \n",
    "    height_meter, \n",
    "    colorbar_title='mu tesla', \n",
    "    title='Magnetic Strength', \n",
    "    show=False,\n",
    ")\n",
    "html_filename = f'{magn_image_save_dir}/magnetic_strength.html'\n",
    "html_filename = str(Path(html_filename).resolve())\n",
    "save_figure_to_html(fig, html_filename)"
   ]
  }
 ],
 "metadata": {
  "kernelspec": {
   "display_name": ".venv",
   "language": "python",
   "name": "python3"
  },
  "language_info": {
   "codemirror_mode": {
    "name": "ipython",
    "version": 3
   },
   "file_extension": ".py",
   "mimetype": "text/x-python",
   "name": "python",
   "nbconvert_exporter": "python",
   "pygments_lexer": "ipython3",
   "version": "3.11.4"
  },
  "orig_nbformat": 4
 },
 "nbformat": 4,
 "nbformat_minor": 2
}
