{
 "cells": [
  {
   "cell_type": "code",
   "execution_count": 1,
   "metadata": {},
   "outputs": [],
   "source": [
    "import sys\n",
    "sys.path.extend(['../', '../read_utils/'])\n",
    "\n",
    "import json\n",
    "import numpy as np\n",
    "from pathlib import Path\n",
    "\n",
    "from read_utils.main import (\n",
    "    calibrate_magnetic_wifi_ibeacon_to_position, \n",
    "    extract_wifi_rssi, \n",
    "    visualize_heatmap, \n",
    "    save_figure_to_html,\n",
    ")\n"
   ]
  },
  {
   "cell_type": "code",
   "execution_count": 2,
   "metadata": {},
   "outputs": [],
   "source": [
    "floor_data_dir = '../data/site1/F1'\n",
    "path_data_dir = floor_data_dir + '/path_data_files'\n",
    "floor_plan_filename = floor_data_dir + '/floor_image.png'\n",
    "floor_info_filename = floor_data_dir + '/floor_info.json'\n",
    "\n",
    "save_dir = '../output/site1/F1'\n",
    "wifi_image_save_dir = save_dir + '/wifi_images'"
   ]
  },
  {
   "cell_type": "code",
   "execution_count": 3,
   "metadata": {},
   "outputs": [
    {
     "name": "stdout",
     "output_type": "stream",
     "text": [
      "239.81749314504376 176.44116534000818\n",
      "(7840, 2)\n"
     ]
    }
   ],
   "source": [
    "with open(floor_info_filename) as f:\n",
    "    floor_info = json.load(f)\n",
    "width_meter = floor_info[\"map_info\"][\"width\"]\n",
    "height_meter = floor_info[\"map_info\"][\"height\"]\n",
    "print(width_meter, height_meter)\n",
    "\n",
    "path_filenames = list(Path(path_data_dir).resolve().glob(\"*.txt\"))\n",
    "mwi_datas = calibrate_magnetic_wifi_ibeacon_to_position(path_filenames)\n",
    "step_positions = np.array(list(mwi_datas.keys()))\n",
    "print(step_positions.shape)"
   ]
  },
  {
   "cell_type": "code",
   "execution_count": 4,
   "metadata": {},
   "outputs": [
    {
     "name": "stdout",
     "output_type": "stream",
     "text": [
      "2524\n",
      "['06:74:9c:a7:a3:c0', '0a:74:9c:a7:a3:c0', '16:74:9c:a7:a3:c0', '0e:74:9c:a7:a3:c0', '1e:74:9c:a7:a3:c0']\n"
     ]
    }
   ],
   "source": [
    "# WiFi APs = WiFi access points\n",
    "# RSS = Received Signal Strength / RSSI = Received Signal Strength Indicator\n",
    "# BSSID = Basic Service Set Identifier \n",
    "wifi_rssi = extract_wifi_rssi(mwi_datas)\n",
    "print(len(wifi_rssi))\n",
    "print(list(wifi_rssi.keys())[:5])"
   ]
  },
  {
   "cell_type": "code",
   "execution_count": 5,
   "metadata": {},
   "outputs": [
    {
     "name": "stdout",
     "output_type": "stream",
     "text": [
      "(1549, 2) (1549,)\n"
     ]
    }
   ],
   "source": [
    "target_wifi = '06:74:9c:a7:a3:c0'\n",
    "heat_positions = np.array(list(wifi_rssi[target_wifi].keys()))\n",
    "heat_values = np.array(list(wifi_rssi[target_wifi].values()))[:, 0]\n",
    "print(heat_positions.shape, heat_values.shape)\n",
    "\n",
    "fig = visualize_heatmap(\n",
    "    heat_positions, \n",
    "    heat_values, \n",
    "    floor_plan_filename, \n",
    "    width_meter, \n",
    "    height_meter, \n",
    "    colorbar_title='dBm', \n",
    "    title=f'Wifi: {target_wifi} RSSI', \n",
    "    show=False,\n",
    ")\n",
    "html_filename = f'{wifi_image_save_dir}/{target_wifi.replace(\":\", \"-\")}.html'\n",
    "html_filename = str(Path(html_filename).resolve())\n",
    "save_figure_to_html(fig, html_filename)"
   ]
  },
  {
   "cell_type": "code",
   "execution_count": 6,
   "metadata": {},
   "outputs": [
    {
     "data": {
      "text/plain": [
       "(6291, 2)"
      ]
     },
     "execution_count": 6,
     "metadata": {},
     "output_type": "execute_result"
    }
   ],
   "source": [
    "# Identify the missing positions\n",
    "missing_positions_mask = np.isin(step_positions, heat_positions).all(axis=1)\n",
    "\n",
    "# Extract the missing positions\n",
    "missing_positions = step_positions[~missing_positions_mask]\n",
    "missing_positions.shape"
   ]
  },
  {
   "cell_type": "markdown",
   "metadata": {},
   "source": [
    "## Method 1: Radial Basis Function (RBF) interpolation technique"
   ]
  },
  {
   "cell_type": "code",
   "execution_count": 7,
   "metadata": {},
   "outputs": [],
   "source": [
    "#from scipy.interpolate import Rbf\n",
    "\n",
    "# Use Radial Basis Function interpolation to estimate missing values\n",
    "#rbf = Rbf(heat_positions[:, 0], heat_positions[:, 1], heat_values, function='linear')\n",
    "#interpolated_values = rbf(missing_positions[:, 0], missing_positions[:, 1])\n",
    "\n",
    "#interpolated_values.shape"
   ]
  },
  {
   "cell_type": "code",
   "execution_count": 8,
   "metadata": {},
   "outputs": [],
   "source": [
    "# Combine the known and interpolated values\n",
    "all_positions = np.vstack([heat_positions, missing_positions])\n",
    "#all_values = np.hstack([heat_values, interpolated_values])\n",
    "\n",
    "#fig = visualize_heatmap(all_positions, all_values, floor_plan_filename, width_meter, height_meter, colorbar_title='dBm', title=f'Wifi: {target_wifi} RSSI', show=False)\n",
    "#html_filename = f'{wifi_image_save_dir}/{target_wifi.replace(\":\", \"-\")}-rbf.html'\n",
    "#html_filename = str(Path(html_filename).resolve())\n",
    "#save_figure_to_html(fig, html_filename)"
   ]
  },
  {
   "cell_type": "markdown",
   "metadata": {},
   "source": [
    "## Method 2: KNN (k-nearest neighbors) Interpolation"
   ]
  },
  {
   "cell_type": "code",
   "execution_count": 9,
   "metadata": {},
   "outputs": [],
   "source": [
    "#from sklearn.model_selection import train_test_split\n",
    "#from sklearn.metrics import mean_squared_error\n",
    "#from sklearn.neighbors import KNeighborsRegressor\n",
    "\n",
    "# Split the known data into a training set and a validation set\n",
    "#X_train, X_val, y_train, y_val = train_test_split(heat_positions, heat_values, test_size=0.2, random_state=42)\n",
    "\n",
    "# Define a range of k values to search over\n",
    "#k_values = list(range(1, 51))\n",
    "#errors = []\n",
    "\n",
    "# Train and validate KNN for each k value\n",
    "#for k in k_values:\n",
    "#    knn = KNeighborsRegressor(n_neighbors=k)\n",
    "#    knn.fit(X_train, y_train)\n",
    "#    y_pred = knn.predict(X_val)\n",
    "#    mse = mean_squared_error(y_val, y_pred)\n",
    "#    errors.append(mse)\n",
    "\n",
    "# Find the optimal k value\n",
    "#optimal_k = k_values[np.argmin(errors)]\n",
    "#min_error = min(errors)\n",
    "\n",
    "#optimal_k, min_error"
   ]
  },
  {
   "cell_type": "code",
   "execution_count": 10,
   "metadata": {},
   "outputs": [],
   "source": [
    "# Use the optimal k value to interpolate the missing values\n",
    "#knn_optimal = KNeighborsRegressor(n_neighbors=optimal_k)\n",
    "#knn_optimal.fit(heat_positions, heat_values)\n",
    "#knn_optimal_interpolated_values = knn_optimal.predict(missing_positions)\n",
    "\n",
    "# Combine the known and KNN-interpolated values for heatmap visualization\n",
    "#all_knn_values = np.hstack([heat_values, knn_optimal_interpolated_values])"
   ]
  },
  {
   "cell_type": "code",
   "execution_count": 11,
   "metadata": {},
   "outputs": [],
   "source": [
    "#fig = visualize_heatmap(all_positions, all_knn_values, floor_plan_filename, width_meter, height_meter, colorbar_title='dBm', title=f'Wifi: {target_wifi} RSSI', show=False)\n",
    "#html_filename = f'{wifi_image_save_dir}/{target_wifi.replace(\":\", \"-\")}-knn.html'\n",
    "#html_filename = str(Path(html_filename).resolve())\n",
    "#save_figure_to_html(fig, html_filename)"
   ]
  },
  {
   "cell_type": "markdown",
   "metadata": {},
   "source": [
    "## Method 3: Inverse Distance Weighting (IDW) Interpolation"
   ]
  },
  {
   "cell_type": "code",
   "execution_count": 12,
   "metadata": {},
   "outputs": [
    {
     "data": {
      "text/plain": [
       "(6291,)"
      ]
     },
     "execution_count": 12,
     "metadata": {},
     "output_type": "execute_result"
    }
   ],
   "source": [
    "def inverse_distance_weighting(known_points, known_values, unknown_points, power=2):\n",
    "    \"\"\"\n",
    "    Interpolate using Inverse Distance Weighting.\n",
    "    \"\"\"\n",
    "    interpolated_values = []\n",
    "    for point in unknown_points:\n",
    "        # Compute distances to known_points\n",
    "        distances = np.linalg.norm(known_points - point, axis=1)\n",
    "        # Avoid divide by zero\n",
    "        distances[distances == 0] = 1e-5\n",
    "        # Compute weights\n",
    "        weights = 1.0 / distances**power\n",
    "        # Compute weighted average\n",
    "        value = np.sum(weights * known_values) / np.sum(weights)\n",
    "        interpolated_values.append(value)\n",
    "    return np.array(interpolated_values)\n",
    "\n",
    "# Interpolate using IDW\n",
    "idw_interpolated_values = inverse_distance_weighting(heat_positions, heat_values, missing_positions)\n",
    "\n",
    "idw_interpolated_values.shape"
   ]
  },
  {
   "cell_type": "code",
   "execution_count": 13,
   "metadata": {},
   "outputs": [],
   "source": [
    "all_idw_values = np.hstack([heat_values, idw_interpolated_values])\n",
    "\n",
    "fig = visualize_heatmap(\n",
    "    all_positions, \n",
    "    all_idw_values, \n",
    "    floor_plan_filename, \n",
    "    width_meter, \n",
    "    height_meter, \n",
    "    colorbar_title='dBm', \n",
    "    title=f'Wifi: {target_wifi} RSSI', \n",
    "    show=False,\n",
    ")\n",
    "html_filename = f'{wifi_image_save_dir}/{target_wifi.replace(\":\", \"-\")}-idw.html'\n",
    "html_filename = str(Path(html_filename).resolve())\n",
    "save_figure_to_html(fig, html_filename)"
   ]
  },
  {
   "cell_type": "markdown",
   "metadata": {},
   "source": [
    "## Method 4: Gaussian Processes (Kriging) Interpolation"
   ]
  },
  {
   "cell_type": "code",
   "execution_count": 14,
   "metadata": {},
   "outputs": [],
   "source": [
    "#from sklearn.gaussian_process import GaussianProcessRegressor\n",
    "#from sklearn.gaussian_process.kernels import RBF, ConstantKernel as C\n",
    "\n",
    "# Define the Gaussian Processes kernel\n",
    "#kernel = C(1.0, (1e-3, 1e3)) * RBF(1.0, (1e-2, 1e2))\n",
    "\n",
    "# Create and train the Gaussian Process regressor\n",
    "#gp = GaussianProcessRegressor(kernel=kernel, n_restarts_optimizer=10)\n",
    "#gp.fit(heat_positions, heat_values)\n",
    "\n",
    "# Predict using Gaussian Processes\n",
    "#gp_interpolated_values, _ = gp.predict(missing_positions, return_std=True)\n",
    "\n",
    "#gp_interpolated_values.shape"
   ]
  },
  {
   "cell_type": "code",
   "execution_count": 15,
   "metadata": {},
   "outputs": [],
   "source": [
    "#all_gp_values = np.hstack([heat_values, gp_interpolated_values])\n",
    "\n",
    "#fig = visualize_heatmap(all_positions, all_idw_values, floor_plan_filename, width_meter, height_meter, colorbar_title='dBm', title=f'Wifi: {target_wifi} RSSI', show=False)\n",
    "#html_filename = f'{wifi_image_save_dir}/{target_wifi.replace(\":\", \"-\")}-gp.html'\n",
    "#html_filename = str(Path(html_filename).resolve())\n",
    "#save_figure_to_html(fig, html_filename)"
   ]
  }
 ],
 "metadata": {
  "kernelspec": {
   "display_name": ".venv",
   "language": "python",
   "name": "python3"
  },
  "language_info": {
   "codemirror_mode": {
    "name": "ipython",
    "version": 3
   },
   "file_extension": ".py",
   "mimetype": "text/x-python",
   "name": "python",
   "nbconvert_exporter": "python",
   "pygments_lexer": "ipython3",
   "version": "3.11.4"
  },
  "orig_nbformat": 4
 },
 "nbformat": 4,
 "nbformat_minor": 2
}
