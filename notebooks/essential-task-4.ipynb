{
 "cells": [
  {
   "cell_type": "code",
   "execution_count": 1,
   "metadata": {},
   "outputs": [],
   "source": [
    "import sys\n",
    "sys.path.extend(['../', '../read_utils/'])\n",
    "\n",
    "import json\n",
    "import numpy as np\n",
    "from pathlib import Path\n",
    "\n",
    "from read_utils.main import (\n",
    "    calibrate_magnetic_wifi_ibeacon_to_position, \n",
    "    extract_ibeacon_rssi, \n",
    "    visualize_heatmap, \n",
    "    save_figure_to_html,\n",
    ")\n"
   ]
  },
  {
   "cell_type": "code",
   "execution_count": 2,
   "metadata": {},
   "outputs": [],
   "source": [
    "floor_data_dir = '../data/site1/F1'\n",
    "path_data_dir = floor_data_dir + '/path_data_files'\n",
    "floor_plan_filename = floor_data_dir + '/floor_image.png'\n",
    "floor_info_filename = floor_data_dir + '/floor_info.json'\n",
    "\n",
    "save_dir = '../output/site1/F1'\n",
    "ibeacon_image_save_dir = save_dir + '/ibeacon_images'"
   ]
  },
  {
   "cell_type": "code",
   "execution_count": 3,
   "metadata": {},
   "outputs": [
    {
     "name": "stdout",
     "output_type": "stream",
     "text": [
      "239.81749314504376 176.44116534000818\n",
      "(7840, 2)\n"
     ]
    }
   ],
   "source": [
    "with open(floor_info_filename) as f:\n",
    "    floor_info = json.load(f)\n",
    "width_meter = floor_info[\"map_info\"][\"width\"]\n",
    "height_meter = floor_info[\"map_info\"][\"height\"]\n",
    "print(width_meter, height_meter)\n",
    "\n",
    "path_filenames = list(Path(path_data_dir).resolve().glob(\"*.txt\"))\n",
    "mwi_datas = calibrate_magnetic_wifi_ibeacon_to_position(path_filenames)\n",
    "step_positions = np.array(list(mwi_datas.keys()))\n",
    "print(step_positions.shape)"
   ]
  },
  {
   "cell_type": "code",
   "execution_count": 4,
   "metadata": {},
   "outputs": [
    {
     "name": "stdout",
     "output_type": "stream",
     "text": [
      "20\n",
      "['9195B3AD-A9D0-4500-85FF-9FB0F65A5201_0_0', 'FDA50693-A4E2-4FB1-AFCF-C6EB07647825_10073_61418', 'FB349B5F-8000-0080-0010-00003CFE0000_6155_59255', '6B76E28A-6FA2-48C9-8502-C1DAA388AB2C_47237_15305', '6B76E28A-6FA2-48C9-8502-C1DAA388AB2C_45850_14031', '6B76E28A-6FA2-48C9-8502-C1DAA388AB2C_19018_35270', '616C6970-6179-626F-7869-626561636F6A_49662_37272', '3C3493F1-997A-D187-0AD6-FB5A8D4EFA63_30242_6415', '616C6970-6179-626F-7869-626561636F6A_3824_27065', '616C6970-6179-626F-7869-626561636F6A_28214_49911']\n"
     ]
    }
   ],
   "source": [
    "ibeacon_rssi = extract_ibeacon_rssi(mwi_datas)\n",
    "print(len(ibeacon_rssi))\n",
    "ten_ibeacon_ummids = list(ibeacon_rssi.keys())[0:10]\n",
    "print(ten_ibeacon_ummids)"
   ]
  },
  {
   "cell_type": "code",
   "execution_count": 5,
   "metadata": {},
   "outputs": [
    {
     "name": "stdout",
     "output_type": "stream",
     "text": [
      "(6003, 2) (6003,)\n"
     ]
    }
   ],
   "source": [
    "target_ibeacon = '9195B3AD-A9D0-4500-85FF-9FB0F65A5201_0_0'\n",
    "heat_positions = np.array(list(ibeacon_rssi[target_ibeacon].keys()))\n",
    "heat_values = np.array(list(ibeacon_rssi[target_ibeacon].values()))[:, 0]\n",
    "print(heat_positions.shape, heat_values.shape)\n",
    "\n",
    "fig = visualize_heatmap(\n",
    "    heat_positions, \n",
    "    heat_values, \n",
    "    floor_plan_filename, \n",
    "    width_meter, \n",
    "    height_meter, \n",
    "    colorbar_title='dBm', \n",
    "    title=f'iBeacon: {target_ibeacon} RSSI', \n",
    "    show=False,\n",
    ")\n",
    "html_filename = f'{ibeacon_image_save_dir}/{target_ibeacon}.html'\n",
    "html_filename = str(Path(html_filename).resolve())\n",
    "save_figure_to_html(fig, html_filename)"
   ]
  },
  {
   "cell_type": "code",
   "execution_count": 6,
   "metadata": {},
   "outputs": [
    {
     "data": {
      "text/plain": [
       "(1837, 2)"
      ]
     },
     "execution_count": 6,
     "metadata": {},
     "output_type": "execute_result"
    }
   ],
   "source": [
    "# Identify the missing positions\n",
    "missing_positions_mask = np.isin(step_positions, heat_positions).all(axis=1)\n",
    "\n",
    "# Extract the missing positions\n",
    "missing_positions = step_positions[~missing_positions_mask]\n",
    "missing_positions.shape"
   ]
  },
  {
   "cell_type": "markdown",
   "metadata": {},
   "source": [
    "## Method 3: Inverse Distance Weighting (IDW) Interpolation"
   ]
  },
  {
   "cell_type": "code",
   "execution_count": 7,
   "metadata": {},
   "outputs": [
    {
     "data": {
      "text/plain": [
       "(1837,)"
      ]
     },
     "execution_count": 7,
     "metadata": {},
     "output_type": "execute_result"
    }
   ],
   "source": [
    "def inverse_distance_weighting(known_points, known_values, unknown_points, power=2):\n",
    "    \"\"\"\n",
    "    Interpolate using Inverse Distance Weighting.\n",
    "    \"\"\"\n",
    "    interpolated_values = []\n",
    "    for point in unknown_points:\n",
    "        # Compute distances to known_points\n",
    "        distances = np.linalg.norm(known_points - point, axis=1)\n",
    "        # Avoid divide by zero\n",
    "        distances[distances == 0] = 1e-5\n",
    "        # Compute weights\n",
    "        weights = 1.0 / distances**power\n",
    "        # Compute weighted average\n",
    "        value = np.sum(weights * known_values) / np.sum(weights)\n",
    "        interpolated_values.append(value)\n",
    "    return np.array(interpolated_values)\n",
    "\n",
    "# Interpolate using IDW\n",
    "idw_interpolated_values = inverse_distance_weighting(heat_positions, heat_values, missing_positions)\n",
    "idw_interpolated_values.shape"
   ]
  },
  {
   "cell_type": "code",
   "execution_count": 8,
   "metadata": {},
   "outputs": [],
   "source": [
    "all_positions = np.vstack([heat_positions, missing_positions])\n",
    "all_idw_values = np.hstack([heat_values, idw_interpolated_values])\n",
    "\n",
    "fig = visualize_heatmap(\n",
    "    heat_positions, \n",
    "    heat_values, \n",
    "    floor_plan_filename, \n",
    "    width_meter, \n",
    "    height_meter, \n",
    "    colorbar_title='dBm', \n",
    "    title=f'iBeacon: {target_ibeacon} RSSI', \n",
    "    show=False,\n",
    ")\n",
    "html_filename = f'{ibeacon_image_save_dir}/{target_ibeacon}-idw.html'\n",
    "html_filename = str(Path(html_filename).resolve())\n",
    "save_figure_to_html(fig, html_filename)"
   ]
  }
 ],
 "metadata": {
  "kernelspec": {
   "display_name": ".venv",
   "language": "python",
   "name": "python3"
  },
  "language_info": {
   "codemirror_mode": {
    "name": "ipython",
    "version": 3
   },
   "file_extension": ".py",
   "mimetype": "text/x-python",
   "name": "python",
   "nbconvert_exporter": "python",
   "pygments_lexer": "ipython3",
   "version": "3.11.4"
  },
  "orig_nbformat": 4
 },
 "nbformat": 4,
 "nbformat_minor": 2
}
