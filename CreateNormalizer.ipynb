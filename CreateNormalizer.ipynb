{
 "cells": [
  {
   "cell_type": "code",
   "execution_count": 1,
   "id": "5467d3da-0861-4838-aad9-f3424808df05",
   "metadata": {
    "tags": []
   },
   "outputs": [],
   "source": [
    "import numpy as np\n",
    "import pandas as pd\n",
    "from sklearn.preprocessing import Normalizer,StandardScaler\n",
    "from models.dataset import IndoorLocDataset,collate_fn\n",
    "from torch.utils.data import DataLoader\n",
    "\n",
    "# root = \"../data/\"\n",
    "dataset = IndoorLocDataset(root=\"/home/lilong/4TB/AI6128_Project_1/data/\")\n",
    "train_dataloader = DataLoader(dataset, batch_size=16, shuffle=True,collate_fn = collate_fn,num_workers=8)\n"
   ]
  },
  {
   "cell_type": "code",
   "execution_count": 11,
   "id": "92cb9b54-a122-4e43-bed5-0ff2cf71b6f7",
   "metadata": {
    "tags": []
   },
   "outputs": [
    {
     "data": {
      "text/plain": [
       "{'1F': 4,\n",
       " '2F': 5,\n",
       " '3F': 6,\n",
       " '4F': 7,\n",
       " '5F': 8,\n",
       " '6F': 9,\n",
       " '7F': 10,\n",
       " '8F': 11,\n",
       " '9F': 12,\n",
       " 'B': 3,\n",
       " 'B1': 2,\n",
       " 'B2': 1,\n",
       " 'B3': 0,\n",
       " 'BF': 3,\n",
       " 'BM': 2,\n",
       " 'F1': 4,\n",
       " 'F10': 13,\n",
       " 'F2': 5,\n",
       " 'F3': 6,\n",
       " 'F4': 7,\n",
       " 'F5': 8,\n",
       " 'F6': 9,\n",
       " 'F7': 10,\n",
       " 'F8': 11,\n",
       " 'F9': 12,\n",
       " 'G': 4,\n",
       " 'L1': 4,\n",
       " 'L10': 13,\n",
       " 'L11': 14,\n",
       " 'L2': 5,\n",
       " 'L3': 6,\n",
       " 'L4': 7,\n",
       " 'L5': 8,\n",
       " 'L6': 9,\n",
       " 'L7': 10,\n",
       " 'L8': 11,\n",
       " 'L9': 12,\n",
       " 'LG1': 4,\n",
       " 'LG2': 6,\n",
       " 'LM': 5,\n",
       " 'M': 6,\n",
       " 'P1': 3,\n",
       " 'P2': 2}"
      ]
     },
     "execution_count": 11,
     "metadata": {},
     "output_type": "execute_result"
    }
   ],
   "source": [
    "# list(dataset.uniqueFloors)\n",
    "\n",
    "floor_map = {'1F':0,'2F':1,'3F':2,'4F':3,'5F':4,'6F':5,'7F':6,'8F':7,'9F':8,'B':-1,'B1':-2,'B2':-3,'B3':-4,'BF':-1,'BM':-2,'F1':0,'F10':9,'F2':1,'F3':2,'F4':3,'F5':4,\\\n",
    " 'F6':5,'F7':6,'F8':7,'F9':8,'G':0,'L1':0,'L10':9,'L11':10,'L2':1,'L3':2,'L4':3,'L5':4,'L6':5,'L7':6,'L8':7,'L9':8,'LG1':0,'LG2':2,'LM':1,'M':2,'P1':-1,'P2':-2}\n",
    "minFloor = min(floor_map.values())\n",
    "floor_map = {k:v+abs(minFloor) for k,v in floor_map.items()}\n",
    "floor_map\n"
   ]
  },
  {
   "cell_type": "code",
   "execution_count": 2,
   "id": "3d1aa97e-b136-43bd-9e3e-563ab031f073",
   "metadata": {
    "tags": []
   },
   "outputs": [],
   "source": [
    "for d in train_dataloader:\n",
    "    imuData = d[\"imuData\"]\n",
    "    \n",
    "    break"
   ]
  },
  {
   "cell_type": "code",
   "execution_count": 5,
   "id": "39db0125-d6ba-43bb-b619-cff2a8d480d7",
   "metadata": {
    "tags": []
   },
   "outputs": [
    {
     "data": {
      "text/plain": [
       "torch.Size([148])"
      ]
     },
     "execution_count": 5,
     "metadata": {},
     "output_type": "execute_result"
    }
   ],
   "source": [
    "d[\"wifiIDX\"][0].shape"
   ]
  },
  {
   "cell_type": "code",
   "execution_count": 4,
   "id": "67ab1afe-b468-4d59-94e2-a09b894a71eb",
   "metadata": {
    "tags": []
   },
   "outputs": [
    {
     "data": {
      "text/plain": [
       "tensor([1738, 2395,  471, 4096,  745,  494, 4096, 4096, 1680,  851,  831, 1632,\n",
       "        4096,  907, 1979, 2179])"
      ]
     },
     "execution_count": 4,
     "metadata": {},
     "output_type": "execute_result"
    }
   ],
   "source": [
    "d[\"timeLen\"]"
   ]
  },
  {
   "cell_type": "code",
   "execution_count": 5,
   "id": "d7024b1d-30cf-41f8-baf9-bcdd243b7c74",
   "metadata": {
    "tags": []
   },
   "outputs": [],
   "source": [
    "normalizer = StandardScaler()"
   ]
  },
  {
   "cell_type": "code",
   "execution_count": 6,
   "id": "6e34a527-1368-423e-a049-d563a9f03287",
   "metadata": {
    "tags": []
   },
   "outputs": [
    {
     "data": {
      "application/vnd.jupyter.widget-view+json": {
       "model_id": "25fda1a4ef9e4bbb8a290bdfe1944ae0",
       "version_major": 2,
       "version_minor": 0
      },
      "text/plain": [
       "  0%|          | 0/1599 [00:00<?, ?it/s]"
      ]
     },
     "metadata": {},
     "output_type": "display_data"
    },
    {
     "name": "stderr",
     "output_type": "stream",
     "text": [
      "/home/lilong/anaconda3/envs/ML/lib/python3.10/site-packages/scipy/interpolate/_interpolate.py:701: RuntimeWarning: invalid value encountered in divide\n",
      "  slope = (y_hi - y_lo) / (x_hi - x_lo)[:, None]\n",
      "/home/lilong/anaconda3/envs/ML/lib/python3.10/site-packages/scipy/interpolate/_interpolate.py:701: RuntimeWarning: invalid value encountered in divide\n",
      "  slope = (y_hi - y_lo) / (x_hi - x_lo)[:, None]\n",
      "/home/lilong/anaconda3/envs/ML/lib/python3.10/site-packages/scipy/interpolate/_interpolate.py:701: RuntimeWarning: invalid value encountered in divide\n",
      "  slope = (y_hi - y_lo) / (x_hi - x_lo)[:, None]\n"
     ]
    }
   ],
   "source": [
    "from tqdm.notebook import tqdm\n",
    "for d in tqdm(train_dataloader):\n",
    "    imuData = d[\"imuData\"]\n",
    "    normalizer.partial_fit(imuData.numpy().reshape(-1,12))\n",
    "    \n",
    "    # break"
   ]
  },
  {
   "cell_type": "code",
   "execution_count": 7,
   "id": "98d74929-379f-40b4-9dd7-bce198f58e0c",
   "metadata": {
    "tags": []
   },
   "outputs": [
    {
     "data": {
      "text/plain": [
       "(12,)"
      ]
     },
     "execution_count": 7,
     "metadata": {},
     "output_type": "execute_result"
    }
   ],
   "source": [
    "normalizer.var_.shape"
   ]
  },
  {
   "cell_type": "code",
   "execution_count": 8,
   "id": "df2561a1-f880-4577-8b2b-ddcc2a4ecd28",
   "metadata": {
    "tags": []
   },
   "outputs": [
    {
     "data": {
      "text/plain": [
       "array([-1.67268248e-01,  5.09417195e-01,  4.83191520e+00,  7.88566630e-04,\n",
       "        2.79203947e-04, -7.94151948e-04,  4.68924168e-03, -1.40424487e+00,\n",
       "       -1.37202737e+01,  2.15443264e-02,  4.30928966e-03, -1.14553379e-02])"
      ]
     },
     "execution_count": 8,
     "metadata": {},
     "output_type": "execute_result"
    }
   ],
   "source": [
    "normalizer.mean_"
   ]
  },
  {
   "cell_type": "code",
   "execution_count": 9,
   "id": "16ff5dc6-18cf-4ec3-a4d1-5dd38023d8a5",
   "metadata": {
    "tags": []
   },
   "outputs": [
    {
     "data": {
      "text/plain": [
       "['./dataset_details/std_scaler.bin']"
      ]
     },
     "execution_count": 9,
     "metadata": {},
     "output_type": "execute_result"
    }
   ],
   "source": [
    "# from sklearn.externals.joblib import dump, load\n",
    "from joblib import dump,load\n",
    "dump(normalizer, './dataset_details/std_scaler.bin', compress=True)"
   ]
  },
  {
   "cell_type": "code",
   "execution_count": 10,
   "id": "82c57698-7d12-48fb-b8c0-816b97d6d6dd",
   "metadata": {
    "tags": []
   },
   "outputs": [
    {
     "data": {
      "text/html": [
       "<style>#sk-container-id-1 {color: black;background-color: white;}#sk-container-id-1 pre{padding: 0;}#sk-container-id-1 div.sk-toggleable {background-color: white;}#sk-container-id-1 label.sk-toggleable__label {cursor: pointer;display: block;width: 100%;margin-bottom: 0;padding: 0.3em;box-sizing: border-box;text-align: center;}#sk-container-id-1 label.sk-toggleable__label-arrow:before {content: \"▸\";float: left;margin-right: 0.25em;color: #696969;}#sk-container-id-1 label.sk-toggleable__label-arrow:hover:before {color: black;}#sk-container-id-1 div.sk-estimator:hover label.sk-toggleable__label-arrow:before {color: black;}#sk-container-id-1 div.sk-toggleable__content {max-height: 0;max-width: 0;overflow: hidden;text-align: left;background-color: #f0f8ff;}#sk-container-id-1 div.sk-toggleable__content pre {margin: 0.2em;color: black;border-radius: 0.25em;background-color: #f0f8ff;}#sk-container-id-1 input.sk-toggleable__control:checked~div.sk-toggleable__content {max-height: 200px;max-width: 100%;overflow: auto;}#sk-container-id-1 input.sk-toggleable__control:checked~label.sk-toggleable__label-arrow:before {content: \"▾\";}#sk-container-id-1 div.sk-estimator input.sk-toggleable__control:checked~label.sk-toggleable__label {background-color: #d4ebff;}#sk-container-id-1 div.sk-label input.sk-toggleable__control:checked~label.sk-toggleable__label {background-color: #d4ebff;}#sk-container-id-1 input.sk-hidden--visually {border: 0;clip: rect(1px 1px 1px 1px);clip: rect(1px, 1px, 1px, 1px);height: 1px;margin: -1px;overflow: hidden;padding: 0;position: absolute;width: 1px;}#sk-container-id-1 div.sk-estimator {font-family: monospace;background-color: #f0f8ff;border: 1px dotted black;border-radius: 0.25em;box-sizing: border-box;margin-bottom: 0.5em;}#sk-container-id-1 div.sk-estimator:hover {background-color: #d4ebff;}#sk-container-id-1 div.sk-parallel-item::after {content: \"\";width: 100%;border-bottom: 1px solid gray;flex-grow: 1;}#sk-container-id-1 div.sk-label:hover label.sk-toggleable__label {background-color: #d4ebff;}#sk-container-id-1 div.sk-serial::before {content: \"\";position: absolute;border-left: 1px solid gray;box-sizing: border-box;top: 0;bottom: 0;left: 50%;z-index: 0;}#sk-container-id-1 div.sk-serial {display: flex;flex-direction: column;align-items: center;background-color: white;padding-right: 0.2em;padding-left: 0.2em;position: relative;}#sk-container-id-1 div.sk-item {position: relative;z-index: 1;}#sk-container-id-1 div.sk-parallel {display: flex;align-items: stretch;justify-content: center;background-color: white;position: relative;}#sk-container-id-1 div.sk-item::before, #sk-container-id-1 div.sk-parallel-item::before {content: \"\";position: absolute;border-left: 1px solid gray;box-sizing: border-box;top: 0;bottom: 0;left: 50%;z-index: -1;}#sk-container-id-1 div.sk-parallel-item {display: flex;flex-direction: column;z-index: 1;position: relative;background-color: white;}#sk-container-id-1 div.sk-parallel-item:first-child::after {align-self: flex-end;width: 50%;}#sk-container-id-1 div.sk-parallel-item:last-child::after {align-self: flex-start;width: 50%;}#sk-container-id-1 div.sk-parallel-item:only-child::after {width: 0;}#sk-container-id-1 div.sk-dashed-wrapped {border: 1px dashed gray;margin: 0 0.4em 0.5em 0.4em;box-sizing: border-box;padding-bottom: 0.4em;background-color: white;}#sk-container-id-1 div.sk-label label {font-family: monospace;font-weight: bold;display: inline-block;line-height: 1.2em;}#sk-container-id-1 div.sk-label-container {text-align: center;}#sk-container-id-1 div.sk-container {/* jupyter's `normalize.less` sets `[hidden] { display: none; }` but bootstrap.min.css set `[hidden] { display: none !important; }` so we also need the `!important` here to be able to override the default hidden behavior on the sphinx rendered scikit-learn.org. See: https://github.com/scikit-learn/scikit-learn/issues/21755 */display: inline-block !important;position: relative;}#sk-container-id-1 div.sk-text-repr-fallback {display: none;}</style><div id=\"sk-container-id-1\" class=\"sk-top-container\"><div class=\"sk-text-repr-fallback\"><pre>StandardScaler()</pre><b>In a Jupyter environment, please rerun this cell to show the HTML representation or trust the notebook. <br />On GitHub, the HTML representation is unable to render, please try loading this page with nbviewer.org.</b></div><div class=\"sk-container\" hidden><div class=\"sk-item\"><div class=\"sk-estimator sk-toggleable\"><input class=\"sk-toggleable__control sk-hidden--visually\" id=\"sk-estimator-id-1\" type=\"checkbox\" checked><label for=\"sk-estimator-id-1\" class=\"sk-toggleable__label sk-toggleable__label-arrow\">StandardScaler</label><div class=\"sk-toggleable__content\"><pre>StandardScaler()</pre></div></div></div></div></div>"
      ],
      "text/plain": [
       "StandardScaler()"
      ]
     },
     "execution_count": 10,
     "metadata": {},
     "output_type": "execute_result"
    }
   ],
   "source": [
    "load(\"./dataset_details/std_scaler.bin\")"
   ]
  },
  {
   "cell_type": "code",
   "execution_count": 12,
   "id": "9e481e77-9eb8-46dc-933f-3701773cbb54",
   "metadata": {
    "tags": []
   },
   "outputs": [],
   "source": [
    "# d"
   ]
  },
  {
   "cell_type": "code",
   "execution_count": null,
   "id": "bb1c5118-635b-4527-ac70-caa7c2ce8cce",
   "metadata": {},
   "outputs": [],
   "source": []
  }
 ],
 "metadata": {
  "kernelspec": {
   "display_name": "Python 3 (ipykernel)",
   "language": "python",
   "name": "python3"
  },
  "language_info": {
   "codemirror_mode": {
    "name": "ipython",
    "version": 3
   },
   "file_extension": ".py",
   "mimetype": "text/x-python",
   "name": "python",
   "nbconvert_exporter": "python",
   "pygments_lexer": "ipython3",
   "version": "3.10.10"
  }
 },
 "nbformat": 4,
 "nbformat_minor": 5
}
